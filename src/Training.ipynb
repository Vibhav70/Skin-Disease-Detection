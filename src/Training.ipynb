{
  "cells": [
    {
      "cell_type": "code",
      "execution_count": null,
      "metadata": {
        "id": "4lSBy7YsHTb_"
      },
      "outputs": [],
      "source": [
        "import tensorflow as tf\n",
        "from tensorflow.keras import layers\n",
        "from tensorflow.keras.layers.experimental import preprocessing\n",
        "\n",
        "import numpy as np\n",
        "import pandas as pd\n",
        "import seaborn as sns\n",
        "import matplotlib.pyplot as plt\n",
        "import cv2\n",
        "import random\n",
        "\n",
        "from tensorflow.keras.layers import Input, Dense, Flatten, GlobalAveragePooling2D, Dropout, BatchNormalization\n",
        "from tensorflow.keras.models import Sequential\n",
        "from tensorflow.keras import layers, regularizers\n",
        "from tensorflow.keras.metrics import Precision, Recall\n"
      ]
    },
    {
      "cell_type": "code",
      "execution_count": null,
      "metadata": {
        "colab": {
          "base_uri": "https://localhost:8080/"
        },
        "id": "pJuBZ8HJHZ5k",
        "outputId": "4a78ac99-ceed-4830-9995-b071085d9368"
      },
      "outputs": [
        {
          "name": "stdout",
          "output_type": "stream",
          "text": [
            "Mounted at /content/drive\n"
          ]
        }
      ],
      "source": [
        "from google.colab import drive\n",
        "drive.mount('/content/drive')"
      ]
    },
    {
      "cell_type": "code",
      "execution_count": null,
      "metadata": {
        "id": "4lIanaTf45l8"
      },
      "outputs": [],
      "source": [
        "mean = np.array([0.485, 0.456, 0.406])\n",
        "std = np.array([0.229, 0.224, 0.225])"
      ]
    },
    {
      "cell_type": "code",
      "execution_count": null,
      "metadata": {
        "colab": {
          "base_uri": "https://localhost:8080/"
        },
        "id": "zBrS5tF2HTYm",
        "outputId": "b32f4982-be40-43df-a042-d40de6794eec"
      },
      "outputs": [
        {
          "name": "stdout",
          "output_type": "stream",
          "text": [
            "Found 10125 files belonging to 10 classes.\n",
            "Found 1449 files belonging to 10 classes.\n",
            "Found 2890 files belonging to 10 classes.\n",
            "Downloading data from https://storage.googleapis.com/tensorflow/keras-applications/efficientnet_v2/efficientnetv2-s_notop.h5\n",
            "82420632/82420632 [==============================] - 1s 0us/step\n"
          ]
        }
      ],
      "source": [
        "from tensorflow.keras.preprocessing import image_dataset_from_directory\n",
        "\n",
        "train_dir = \"/content/drive/MyDrive/dataset_final/train\"\n",
        "test_dir =  \"/content/drive/MyDrive/dataset_final/test\"\n",
        "val_dir = \"/content/drive/MyDrive/dataset_final/val\"\n",
        "\n",
        "# Create a normalization layer\n",
        "normalization_layer = preprocessing.Rescaling(1./255, input_shape=(224, 224, 3))  # Assuming pixel values are in [0, 255]\n",
        "\n",
        "train_data = image_dataset_from_directory(train_dir, label_mode=\"categorical\",\n",
        "                                          image_size=(224, 224), batch_size=32,\n",
        "                                          shuffle=True, seed=42)\n",
        "\n",
        "# Apply normalization to the train_data\n",
        "normalized_train_data = train_data.map(lambda x, y: (normalization_layer(x), y))\n",
        "\n",
        "test_data = image_dataset_from_directory(test_dir, label_mode=\"categorical\",\n",
        "                                         image_size=(224, 224), batch_size=32,\n",
        "                                         shuffle=False, seed=42)\n",
        "\n",
        "# Apply normalization to the test_data\n",
        "normalized_test_data = test_data.map(lambda x, y: (normalization_layer(x), y))\n",
        "\n",
        "val_data = image_dataset_from_directory(val_dir, label_mode=\"categorical\",\n",
        "                                        image_size=(224, 224), batch_size=32,\n",
        "                                        shuffle=False, seed=42)\n",
        "# Apply normalization to the val_data\n",
        "normalized_val_data = val_data.map(lambda x, y: (normalization_layer(x), y))\n",
        "\n",
        "addModel = tf.keras.applications.EfficientNetV2S(input_shape=(224, 224, 3),\n",
        "                                                  include_top=False,\n",
        "                                                  weights='imagenet')\n"
      ]
    },
    {
      "cell_type": "code",
      "execution_count": null,
      "metadata": {
        "id": "D57lct0SHUhB"
      },
      "outputs": [],
      "source": [
        "\n",
        "model = Sequential()\n",
        "model.add(addModel)\n",
        "model.add(GlobalAveragePooling2D())\n",
        "\n",
        "model.add(Flatten())\n",
        "model.add(Dense(256, activation=\"relu\"))\n",
        "\n",
        "model.add(Dense(128, activation=\"relu\"))\n",
        "\n",
        "\n",
        "model.add(Dense(10, activation=\"softmax\" , name=\"classification\"))"
      ]
    },
    {
      "cell_type": "code",
      "execution_count": null,
      "metadata": {
        "colab": {
          "base_uri": "https://localhost:8080/"
        },
        "id": "hAJfHzn4HUdf",
        "outputId": "61ad3d27-e277-49ae-b5d9-3d957fdd2d98"
      },
      "outputs": [
        {
          "name": "stdout",
          "output_type": "stream",
          "text": [
            "Model: \"sequential\"\n",
            "_________________________________________________________________\n",
            " Layer (type)                Output Shape              Param #   \n",
            "=================================================================\n",
            " efficientnetv2-s (Function  (None, 7, 7, 1280)        20331360  \n",
            " al)                                                             \n",
            "                                                                 \n",
            " global_average_pooling2d (  (None, 1280)              0         \n",
            " GlobalAveragePooling2D)                                         \n",
            "                                                                 \n",
            " flatten (Flatten)           (None, 1280)              0         \n",
            "                                                                 \n",
            " dense (Dense)               (None, 256)               327936    \n",
            "                                                                 \n",
            " dense_1 (Dense)             (None, 128)               32896     \n",
            "                                                                 \n",
            " classification (Dense)      (None, 10)                1290      \n",
            "                                                                 \n",
            "=================================================================\n",
            "Total params: 20693482 (78.94 MB)\n",
            "Trainable params: 20539610 (78.35 MB)\n",
            "Non-trainable params: 153872 (601.06 KB)\n",
            "_________________________________________________________________\n"
          ]
        }
      ],
      "source": [
        "model.compile(optimizer=tf.keras.optimizers.Adam(learning_rate=0.001),\n",
        "            loss='categorical_crossentropy',\n",
        "            metrics=['accuracy'])\n",
        "\n",
        "model.summary()"
      ]
    },
    {
      "cell_type": "code",
      "execution_count": null,
      "metadata": {
        "colab": {
          "base_uri": "https://localhost:8080/"
        },
        "id": "oYMBu3VzHUae",
        "outputId": "92ebe58a-d570-47cf-f38e-b67d7097cc05"
      },
      "outputs": [
        {
          "name": "stdout",
          "output_type": "stream",
          "text": [
            "Epoch 1/12\n",
            "317/317 [==============================] - 2987s 9s/step - loss: 1.6752 - accuracy: 0.4190 - val_loss: 1.5096 - val_accuracy: 0.4747\n",
            "Epoch 2/12\n",
            "317/317 [==============================] - 177s 555ms/step - loss: 1.4006 - accuracy: 0.5203 - val_loss: 1.4000 - val_accuracy: 0.5401\n",
            "Epoch 3/12\n",
            "317/317 [==============================] - 183s 574ms/step - loss: 1.2181 - accuracy: 0.5851 - val_loss: 1.3417 - val_accuracy: 0.5682\n",
            "Epoch 4/12\n",
            "317/317 [==============================] - 175s 549ms/step - loss: 1.0931 - accuracy: 0.6310 - val_loss: 1.2726 - val_accuracy: 0.5910\n",
            "Epoch 5/12\n",
            "317/317 [==============================] - 176s 552ms/step - loss: 0.9488 - accuracy: 0.6781 - val_loss: 1.4223 - val_accuracy: 0.5782\n",
            "Epoch 6/12\n",
            "317/317 [==============================] - 175s 549ms/step - loss: 0.8442 - accuracy: 0.7146 - val_loss: 1.3057 - val_accuracy: 0.6107\n",
            "Epoch 7/12\n",
            "317/317 [==============================] - 175s 549ms/step - loss: 0.7073 - accuracy: 0.7597 - val_loss: 1.3941 - val_accuracy: 0.5952\n",
            "Epoch 8/12\n",
            "317/317 [==============================] - 175s 550ms/step - loss: 0.5863 - accuracy: 0.8040 - val_loss: 1.4551 - val_accuracy: 0.6014\n",
            "Epoch 9/12\n",
            "317/317 [==============================] - 183s 575ms/step - loss: 0.5146 - accuracy: 0.8238 - val_loss: 1.4698 - val_accuracy: 0.6052\n",
            "Epoch 10/12\n",
            "317/317 [==============================] - 176s 551ms/step - loss: 0.4148 - accuracy: 0.8638 - val_loss: 1.4801 - val_accuracy: 0.6090\n",
            "Epoch 11/12\n",
            "317/317 [==============================] - 177s 554ms/step - loss: 0.3641 - accuracy: 0.8782 - val_loss: 1.5899 - val_accuracy: 0.5865\n",
            "Epoch 12/12\n",
            "317/317 [==============================] - 175s 549ms/step - loss: 0.3206 - accuracy: 0.8955 - val_loss: 1.6262 - val_accuracy: 0.6149\n"
          ]
        }
      ],
      "source": [
        "history_1 = model.fit(train_data , validation_data = val_data , epochs = 12)"
      ]
    },
    {
      "cell_type": "code",
      "execution_count": null,
      "metadata": {
        "colab": {
          "base_uri": "https://localhost:8080/"
        },
        "id": "OqOfcHftQkEw",
        "outputId": "00775770-6508-48bd-a5d2-6f66d842b680"
      },
      "outputs": [
        {
          "name": "stderr",
          "output_type": "stream",
          "text": [
            "/usr/local/lib/python3.10/dist-packages/keras/src/engine/training.py:3103: UserWarning: You are saving your model as an HDF5 file via `model.save()`. This file format is considered legacy. We recommend using instead the native Keras format, e.g. `model.save('my_model.keras')`.\n",
            "  saving_api.save_model(\n"
          ]
        }
      ],
      "source": [
        "model.save('/content/drive/MyDrive/skin_ultra.h5')"
      ]
    },
    {
      "cell_type": "code",
      "execution_count": null,
      "metadata": {
        "colab": {
          "base_uri": "https://localhost:8080/"
        },
        "id": "7mHyqqtVYJSJ",
        "outputId": "44810df5-8ca8-4253-c0d5-13604d00d3dc"
      },
      "outputs": [
        {
          "name": "stderr",
          "output_type": "stream",
          "text": [
            "WARNING:absl:`efficientnetv2-s_input` is not a valid tf.function parameter name. Sanitizing to `efficientnetv2_s_input`.\n",
            "WARNING:absl:`efficientnetv2-s_input` is not a valid tf.function parameter name. Sanitizing to `efficientnetv2_s_input`.\n",
            "WARNING:absl:`efficientnetv2-s_input` is not a valid tf.function parameter name. Sanitizing to `efficientnetv2_s_input`.\n"
          ]
        },
        {
          "name": "stdout",
          "output_type": "stream",
          "text": [
            "Model saved successfully at: /content/drive/MyDrive/saved_models/skin_disease_model_70\n"
          ]
        }
      ],
      "source": [
        "model_save_path = \"/content/drive/MyDrive/saved_models/skin_disease_model_70\"\n",
        "\n",
        "model.save(model_save_path)\n",
        "\n",
        "print(\"Model saved successfully at:\", model_save_path)\n"
      ]
    },
    {
      "cell_type": "code",
      "execution_count": null,
      "metadata": {
        "colab": {
          "base_uri": "https://localhost:8080/"
        },
        "id": "vN02wTB8l_5b",
        "outputId": "07b5f467-56c4-407c-8164-a528f1e320d8"
      },
      "outputs": [
        {
          "name": "stdout",
          "output_type": "stream",
          "text": [
            "46/46 [==============================] - 176s 4s/step - loss: 1.4927 - accuracy: 0.6308\n",
            "\n",
            "Test Accuracy: 63.08%\n",
            "46/46 [==============================] - 12s 195ms/step\n",
            "\n",
            "Top-3 Accuracy: 86.61%\n",
            "46/46 [==============================] - 9s 196ms/step\n",
            "\n",
            "Top-5 Accuracy: 94.62%\n"
          ]
        }
      ],
      "source": [
        "import tensorflow as tf\n",
        "from tensorflow.keras.preprocessing import image\n",
        "import numpy as np\n",
        "\n",
        "# Load the saved model\n",
        "model_save_path = \"/content/drive/MyDrive/saved_models/skin_disease_model\"\n",
        "loaded_model = tf.keras.models.load_model(model_save_path)\n",
        "\n",
        "# Assuming you have a separate test dataset (test_data) for evaluation\n",
        "test_loss, test_accuracy = loaded_model.evaluate(test_data)\n",
        "print(f\"\\nTest Accuracy: {test_accuracy*100:.2f}%\")\n",
        "\n",
        "# Calculate top-3 accuracy manually\n",
        "top3_predictions = np.argsort(loaded_model.predict(test_data), axis=1)[:, -3:]  # Get indices of top 3 predictions\n",
        "true_labels = np.concatenate([y for x, y in test_data], axis=0)  # Assuming your test_data is a tuple (images, labels)\n",
        "\n",
        "top3_correct = np.any(top3_predictions == np.argmax(true_labels, axis=1).reshape(-1, 1), axis=1)\n",
        "top3_accuracy = np.mean(top3_correct)\n",
        "\n",
        "print(f\"\\nTop-3 Accuracy: {top3_accuracy*100:.2f}%\")\n",
        "\n",
        "# Calculate top-5 accuracy manually\n",
        "top5_predictions = np.argsort(loaded_model.predict(test_data), axis=1)[:, -5:]  # Get indices of top 5 predictions\n",
        "\n",
        "top5_correct = np.any(top5_predictions == np.argmax(true_labels, axis=1).reshape(-1, 1), axis=1)\n",
        "top5_accuracy = np.mean(top5_correct)\n",
        "\n",
        "print(f\"\\nTop-5 Accuracy: {top5_accuracy*100:.2f}%\")\n"
      ]
    },
    {
      "cell_type": "code",
      "execution_count": null,
      "metadata": {
        "colab": {
          "base_uri": "https://localhost:8080/"
        },
        "id": "CY9fj91SX9iu",
        "outputId": "a9c090bf-1760-4664-e26b-b92d9d2ae8f2"
      },
      "outputs": [
        {
          "name": "stdout",
          "output_type": "stream",
          "text": [
            "Found 1449 files belonging to 10 classes.\n",
            "46/46 [==============================] - 11s 180ms/step\n",
            "Classification Report:\n",
            "                                  precision    recall  f1-score   support\n",
            "\n",
            "           Bacterial Infections       0.63      0.71      0.67       153\n",
            "        Chronic Skin Conditions       0.65      0.71      0.68       251\n",
            "Sexually Transmitted Infections       0.62      0.51      0.56       108\n",
            "    Connective Tissue Disorders       0.61      0.49      0.55        97\n",
            "                Nail Conditions       0.68      0.66      0.67       103\n",
            "             Contact Dermatitis       0.69      0.60      0.64       141\n",
            "         Infestations and Bites       0.53      0.58      0.55       274\n",
            "              Fungal Infections       0.85      0.91      0.88       110\n",
            "               Viral Infections       0.49      0.53      0.51        66\n",
            "  Miscellaneous Skin Conditions       0.62      0.53      0.58       146\n",
            "\n",
            "                       accuracy                           0.63      1449\n",
            "                      macro avg       0.64      0.62      0.63      1449\n",
            "                   weighted avg       0.63      0.63      0.63      1449\n",
            "\n"
          ]
        }
      ],
      "source": [
        "from sklearn.metrics import classification_report\n",
        "import numpy as np\n",
        "\n",
        "# Assuming you have a separate test dataset without the normalization\n",
        "test_data = image_dataset_from_directory(test_dir, label_mode=\"categorical\",\n",
        "                                         image_size=(224, 224), batch_size=32,\n",
        "                                         shuffle=False, seed=42)\n",
        "\n",
        "loaded_model = tf.keras.models.load_model(\"/content/drive/MyDrive/saved_models/skin_disease_model\")\n",
        "# Get true labels and predicted probabilities from the model\n",
        "\n",
        "true_labels = np.concatenate([y for x, y in test_data], axis=0)\n",
        "predicted_probs = loaded_model.predict(test_data)\n",
        "\n",
        "# Convert probabilities to class labels\n",
        "predicted_labels = np.argmax(predicted_probs, axis=1)\n",
        "\n",
        "# Define class names\n",
        "class_names = [\n",
        "    \"Bacterial Infections\",\n",
        "    \"Chronic Skin Conditions\",\n",
        "    \"Sexually Transmitted Infections\",\n",
        "    \"Connective Tissue Disorders\",\n",
        "    \"Nail Conditions\",\n",
        "    \"Contact Dermatitis\",\n",
        "    \"Infestations and Bites\",\n",
        "    \"Fungal Infections\",\n",
        "    \"Viral Infections\",\n",
        "    \"Miscellaneous Skin Conditions\"\n",
        "]\n",
        "\n",
        "# Use the classification_report to get precision, recall, and F1-score for each class\n",
        "report = classification_report(np.argmax(true_labels, axis=1), predicted_labels, target_names=class_names)\n",
        "\n",
        "print(\"Classification Report:\\n\", report)\n",
        "\n"
      ]
    },
    {
      "cell_type": "code",
      "execution_count": null,
      "metadata": {
        "id": "QOx-Pxim6Bwq"
      },
      "outputs": [],
      "source": []
    }
  ],
  "metadata": {
    "accelerator": "GPU",
    "colab": {
      "gpuType": "T4",
      "provenance": []
    },
    "kernelspec": {
      "display_name": "Python 3",
      "name": "python3"
    },
    "language_info": {
      "name": "python"
    }
  },
  "nbformat": 4,
  "nbformat_minor": 0
}
